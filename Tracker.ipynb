{
 "cells": [
  {
   "cell_type": "code",
   "execution_count": null,
   "metadata": {},
   "outputs": [],
   "source": [
    "import pandas as pd \n",
    "import tensorflow as tf \n",
    "import numpy as np \n",
    "import math as m\n",
    "from matplotlib import pyplot as plt "
   ]
  },
  {
   "cell_type": "code",
   "execution_count": null,
   "metadata": {},
   "outputs": [],
   "source": [
    "df = pd.read_csv(r'C:\\Users\\Gebruiker\\Downloads\\Tracker 2000rpm A-Zpuntkomma.csv')"
   ]
  },
  {
   "cell_type": "code",
   "execution_count": null,
   "metadata": {},
   "outputs": [],
   "source": [
    "df"
   ]
  },
  {
   "cell_type": "code",
   "execution_count": null,
   "metadata": {},
   "outputs": [],
   "source": [
    "print(df.shape)"
   ]
  },
  {
   "cell_type": "code",
   "execution_count": null,
   "metadata": {},
   "outputs": [],
   "source": [
    "df_x = df[['Ax','Bx','Cx','Dx','Ex','Fx','Gx','Hx','Ix','Jx','Kx','Lx','Mx','Nx','Ox','Px','Qx','Rx','Sx','Tx','Ux','Vx','Wx','Xx','Yx','Zx']].copy()\n"
   ]
  },
  {
   "cell_type": "code",
   "execution_count": 22,
   "metadata": {},
   "outputs": [
    {
     "data": {
      "text/html": [
       "<div>\n",
       "<style scoped>\n",
       "    .dataframe tbody tr th:only-of-type {\n",
       "        vertical-align: middle;\n",
       "    }\n",
       "\n",
       "    .dataframe tbody tr th {\n",
       "        vertical-align: top;\n",
       "    }\n",
       "\n",
       "    .dataframe thead th {\n",
       "        text-align: right;\n",
       "    }\n",
       "</style>\n",
       "<table border=\"1\" class=\"dataframe\">\n",
       "  <thead>\n",
       "    <tr style=\"text-align: right;\">\n",
       "      <th></th>\n",
       "      <th>30</th>\n",
       "    </tr>\n",
       "  </thead>\n",
       "  <tbody>\n",
       "    <tr>\n",
       "      <th>Ax</th>\n",
       "      <td>8.462</td>\n",
       "    </tr>\n",
       "    <tr>\n",
       "      <th>Bx</th>\n",
       "      <td>8.258</td>\n",
       "    </tr>\n",
       "    <tr>\n",
       "      <th>Cx</th>\n",
       "      <td>8.685</td>\n",
       "    </tr>\n",
       "    <tr>\n",
       "      <th>Dx</th>\n",
       "      <td>8.846</td>\n",
       "    </tr>\n",
       "    <tr>\n",
       "      <th>Ex</th>\n",
       "      <td>8.825</td>\n",
       "    </tr>\n",
       "    <tr>\n",
       "      <th>Fx</th>\n",
       "      <td>9.033</td>\n",
       "    </tr>\n",
       "    <tr>\n",
       "      <th>Gx</th>\n",
       "      <td>8.443</td>\n",
       "    </tr>\n",
       "    <tr>\n",
       "      <th>Hx</th>\n",
       "      <td>8.445</td>\n",
       "    </tr>\n",
       "    <tr>\n",
       "      <th>Ix</th>\n",
       "      <td>8.925</td>\n",
       "    </tr>\n",
       "    <tr>\n",
       "      <th>Jx</th>\n",
       "      <td>8.749</td>\n",
       "    </tr>\n",
       "    <tr>\n",
       "      <th>Kx</th>\n",
       "      <td>9.104</td>\n",
       "    </tr>\n",
       "    <tr>\n",
       "      <th>Lx</th>\n",
       "      <td>8.678</td>\n",
       "    </tr>\n",
       "    <tr>\n",
       "      <th>Mx</th>\n",
       "      <td>8.783</td>\n",
       "    </tr>\n",
       "    <tr>\n",
       "      <th>Nx</th>\n",
       "      <td>8.233</td>\n",
       "    </tr>\n",
       "    <tr>\n",
       "      <th>Ox</th>\n",
       "      <td>8.750</td>\n",
       "    </tr>\n",
       "    <tr>\n",
       "      <th>Px</th>\n",
       "      <td>9.069</td>\n",
       "    </tr>\n",
       "    <tr>\n",
       "      <th>Qx</th>\n",
       "      <td>8.863</td>\n",
       "    </tr>\n",
       "    <tr>\n",
       "      <th>Rx</th>\n",
       "      <td>9.361</td>\n",
       "    </tr>\n",
       "    <tr>\n",
       "      <th>Sx</th>\n",
       "      <td>8.745</td>\n",
       "    </tr>\n",
       "    <tr>\n",
       "      <th>Tx</th>\n",
       "      <td>8.910</td>\n",
       "    </tr>\n",
       "    <tr>\n",
       "      <th>Ux</th>\n",
       "      <td>8.988</td>\n",
       "    </tr>\n",
       "    <tr>\n",
       "      <th>Vx</th>\n",
       "      <td>9.303</td>\n",
       "    </tr>\n",
       "    <tr>\n",
       "      <th>Wx</th>\n",
       "      <td>8.438</td>\n",
       "    </tr>\n",
       "    <tr>\n",
       "      <th>Xx</th>\n",
       "      <td>9.310</td>\n",
       "    </tr>\n",
       "    <tr>\n",
       "      <th>Yx</th>\n",
       "      <td>8.795</td>\n",
       "    </tr>\n",
       "    <tr>\n",
       "      <th>Zx</th>\n",
       "      <td>8.974</td>\n",
       "    </tr>\n",
       "  </tbody>\n",
       "</table>\n",
       "</div>"
      ],
      "text/plain": [
       "       30\n",
       "Ax  8.462\n",
       "Bx  8.258\n",
       "Cx  8.685\n",
       "Dx  8.846\n",
       "Ex  8.825\n",
       "Fx  9.033\n",
       "Gx  8.443\n",
       "Hx  8.445\n",
       "Ix  8.925\n",
       "Jx  8.749\n",
       "Kx  9.104\n",
       "Lx  8.678\n",
       "Mx  8.783\n",
       "Nx  8.233\n",
       "Ox  8.750\n",
       "Px  9.069\n",
       "Qx  8.863\n",
       "Rx  9.361\n",
       "Sx  8.745\n",
       "Tx  8.910\n",
       "Ux  8.988\n",
       "Vx  9.303\n",
       "Wx  8.438\n",
       "Xx  9.310\n",
       "Yx  8.795\n",
       "Zx  8.974"
      ]
     },
     "execution_count": 22,
     "metadata": {},
     "output_type": "execute_result"
    },
    {
     "data": {
      "image/png": "[encoded data removed]",
      "text/plain": [
       "<Figure size 640x480 with 1 Axes>"
      ]
     },
     "metadata": {},
     "output_type": "display_data"
    }
   ],
   "source": [
    "df_xT = df_x.T\n",
    "df_xT.plot.box(column=30,ylabel=\"x eindafstand(m)\")\n",
    "df_x_eind = df_xT[[30]].copy()\n",
    "df_x_eind"
   ]
  },
  {
   "cell_type": "code",
   "execution_count": 23,
   "metadata": {},
   "outputs": [
    {
     "data": {
      "text/plain": [
       "<AxesSubplot:ylabel='Density'>"
      ]
     },
     "execution_count": 23,
     "metadata": {},
     "output_type": "execute_result"
    },
    {
     "data": {
      "image/png": "[encoded data removed]",
      "text/plain": [
       "<Figure size 640x480 with 1 Axes>"
      ]
     },
     "metadata": {},
     "output_type": "display_data"
    }
   ],
   "source": [
    "df_x_eind.plot.kde()"
   ]
  }
 ],
 "metadata": {
  "kernelspec": {
   "display_name": "Python 3",
   "language": "python",
   "name": "python3"
  },
  "language_info": {
   "codemirror_mode": {
    "name": "ipython",
    "version": 3
   },
   "file_extension": ".py",
   "mimetype": "text/x-python",
   "name": "python",
   "nbconvert_exporter": "python",
   "pygments_lexer": "ipython3",
   "version": "3.10.11"
  },
  "orig_nbformat": 4,
  "vscode": {
   "interpreter": {
    "hash": "5ccd2f0d68b1773550cd96e4fc337d3981cc6654df5da73adaf1b08d63f6f2ec"
   }
  }
 },
 "nbformat": 4,
 "nbformat_minor": 2
}
