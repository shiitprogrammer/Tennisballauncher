{
 "cells": [
  {
   "cell_type": "code",
   "execution_count": 57,
   "metadata": {},
   "outputs": [],
   "source": [
    "import pandas as pd \n",
    "import numpy as np \n",
    "from matplotlib import pyplot as plt \n",
    "from sympy import symbols, Eq, solve\n",
    "from sympy import exp \n",
    "from sympy import sin \n",
    "from sympy import cos \n",
    "from scipy.optimize import fsolve"
   ]
  },
  {
   "cell_type": "code",
   "execution_count": 58,
   "metadata": {},
   "outputs": [],
   "source": [
    "#math constants \n",
    "pi = 3.14159265359 \n",
    "g = 9.81"
   ]
  },
  {
   "cell_type": "code",
   "execution_count": 59,
   "metadata": {},
   "outputs": [],
   "source": [
    "#wheel velocity \n",
    "\n",
    "rpm = 3400\n",
    "W = (rpm/60) * 2 * pi\n",
    "r = 0.09\n",
    "#v0 = W * r * 0.5 \n",
    "#v0 = 13.85\n"
   ]
  },
  {
   "cell_type": "code",
   "execution_count": 60,
   "metadata": {},
   "outputs": [],
   "source": [
    "#tennisbal constants\n",
    "\n",
    "k = 1.5\n",
    "\n",
    "C = 0.5\n",
    "rho = 1.292\n",
    "A = 0.003316625\n",
    "\n",
    "cor = 0.66666\n",
    "cof = 0.72"
   ]
  },
  {
   "cell_type": "code",
   "execution_count": 61,
   "metadata": {},
   "outputs": [],
   "source": [
    "#launcher constants\n",
    "\n",
    "theta = 15*pi/180\n",
    "s0 = 1"
   ]
  },
  {
   "cell_type": "code",
   "execution_count": 62,
   "metadata": {},
   "outputs": [
    {
     "name": "stdout",
     "output_type": "stream",
     "text": [
      "15.283669527807453 1.1172260249148387\n"
     ]
    }
   ],
   "source": [
    "y = 0 \n",
    "x = 8\n",
    "def equations(vars):\n",
    "    v0, t = vars\n",
    "    eq1 = (((x)*k) / (-exp(-k*t)+1))/cos(theta)-v0\n",
    "    eq2 = ((k*(y+1)-g/k+g*t-((g/k)*exp(-k*t)))/(exp(-k*t)+1))/sin(theta)-v0\n",
    "    return [eq1, eq2 ]\n",
    "\n",
    "v0 , t = fsolve(equations, (1,1))\n",
    "print(v0,t)"
   ]
  },
  {
   "cell_type": "code",
   "execution_count": 63,
   "metadata": {},
   "outputs": [
    {
     "name": "stdout",
     "output_type": "stream",
     "text": [
      "14.7628911173764 3.95570475284987\n"
     ]
    }
   ],
   "source": [
    "#velocity\n",
    "\n",
    "v0x = v0 * cos(theta)\n",
    "vx = v0x\n",
    "v0y = v0 * sin(theta)\n",
    "print(v0x,v0y)"
   ]
  },
  {
   "cell_type": "code",
   "execution_count": 64,
   "metadata": {},
   "outputs": [],
   "source": [
    "#time \n",
    "\n",
    "t = 0\n",
    "tf = 3.0*v0y/g\n",
    "dt = tf/2000"
   ]
  },
  {
   "cell_type": "code",
   "execution_count": 65,
   "metadata": {},
   "outputs": [],
   "source": [
    "A = g/k\n",
    "\n",
    "B = v0y + A\n",
    "\n",
    "x = v0x/-k * exp(t*-k)\n",
    "y = B/-k * exp(t*-k)-A*t\n",
    "\n",
    "cx = -v0x/-k * exp(0*-k)\n",
    "cy = B/-k * exp(0*-k)-A*0\n"
   ]
  },
  {
   "cell_type": "code",
   "execution_count": 66,
   "metadata": {},
   "outputs": [],
   "source": [
    "i = 0 \n",
    "x1 = []\n",
    "y1 = []"
   ]
  },
  {
   "cell_type": "code",
   "execution_count": 67,
   "metadata": {
    "tags": [
     "first motion "
    ]
   },
   "outputs": [
    {
     "name": "stdout",
     "output_type": "stream",
     "text": [
      "0.975014688317144\n"
     ]
    }
   ],
   "source": [
    "\n",
    "#### first motion\n",
    "\n",
    "while B/-k * exp(t*-k)-A*t-(cy-1) >= 0: \n",
    "        t = t + dt\n",
    "        x1.append(v0x/-k * exp(t*-k)+cx)\n",
    "        y1.append(B/-k * exp(t*-k)-A*t-(cy-1)) \n",
    "        #print(x[i],y[i])\n",
    "        i = i + 1\n",
    "\n",
    "print(t)"
   ]
  },
  {
   "cell_type": "code",
   "execution_count": 68,
   "metadata": {},
   "outputs": [],
   "source": [
    "v0x2 = v0x * cof\n",
    "v0y2 = -(v0y-g*t) * cor\n",
    "\n",
    "xref = x1[i-1]\n",
    "\n",
    "t = 0 \n",
    "tf = 2.0*v0/g\n",
    "dt = tf/2000\n",
    "\n",
    "A = g/k\n",
    "\n",
    "B = v0y2 + A\n",
    "\n",
    "cx = -v0x2/-k * exp(0*-k)\n",
    "cy = B/-k * exp(0*-k)-A*0\n"
   ]
  },
  {
   "cell_type": "code",
   "execution_count": 69,
   "metadata": {
    "tags": [
     "second motion"
    ]
   },
   "outputs": [],
   "source": [
    "#### second motion\n",
    "\n",
    "while B/-k * exp(t*-k)-A*t-(cy) >= 0:\n",
    "        t = t + dt \n",
    "        x1.append(v0x2 /-k * exp(t*-k)+cx + xref)\n",
    "        y1.append(B/-k * exp(t*-k)-A*t-cy) \n",
    "        #print(x[i],y[i])\n",
    "        i = i + 1 "
   ]
  },
  {
   "cell_type": "code",
   "execution_count": 70,
   "metadata": {},
   "outputs": [
    {
     "name": "stdout",
     "output_type": "stream",
     "text": [
      "12.0051170073176\n",
      "0.6574626443154701\n"
     ]
    },
    {
     "data": {
      "image/png": "[encoded data removed]",
      "text/plain": [
       "<Figure size 640x480 with 1 Axes>"
      ]
     },
     "metadata": {},
     "output_type": "display_data"
    }
   ],
   "source": [
    "print(x1[i-1])\n",
    "print(t)\n",
    "plt.plot(x1,y1)\n",
    "plt.xlim(0, 20)\n",
    "plt.ylim(0, 4)\n",
    "plt.show()"
   ]
  }
 ],
 "metadata": {
  "kernelspec": {
   "display_name": "Python 3.10.8 64-bit (microsoft store)",
   "language": "python",
   "name": "python3"
  },
  "language_info": {
   "codemirror_mode": {
    "name": "ipython",
    "version": 3
   },
   "file_extension": ".py",
   "mimetype": "text/x-python",
   "name": "python",
   "nbconvert_exporter": "python",
   "pygments_lexer": "ipython3",
   "version": "3.10.9 (tags/v3.10.9:1dd9be6, Dec  6 2022, 20:01:21) [MSC v.1934 64 bit (AMD64)]"
  },
  "orig_nbformat": 4,
  "vscode": {
   "interpreter": {
    "hash": "5ccd2f0d68b1773550cd96e4fc337d3981cc6654df5da73adaf1b08d63f6f2ec"
   }
  }
 },
 "nbformat": 4,
 "nbformat_minor": 2
}
