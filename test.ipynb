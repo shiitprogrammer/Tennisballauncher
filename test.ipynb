{
 "cells": [
  {
   "cell_type": "code",
   "execution_count": 1,
   "metadata": {},
   "outputs": [],
   "source": [
    "import pandas as pd \n",
    "import tensorflow as tf \n",
    "import numpy as np \n",
    "import math as m\n",
    "from matplotlib import pyplot as plt "
   ]
  },
  {
   "cell_type": "code",
   "execution_count": 2,
   "metadata": {},
   "outputs": [],
   "source": [
    "#math constants \n",
    "pi = 3.14159265359 \n",
    "g = 9.81"
   ]
  },
  {
   "cell_type": "code",
   "execution_count": 3,
   "metadata": {},
   "outputs": [
    {
     "name": "stdout",
     "output_type": "stream",
     "text": [
      "16.022122533309\n"
     ]
    }
   ],
   "source": [
    "#wheel velocity \n",
    "\n",
    "rpm = 3400\n",
    "W = (rpm/60) * 2 * pi\n",
    "r = 0.09\n",
    "v0 = W * r * 0.5 \n",
    "print(v0)"
   ]
  },
  {
   "cell_type": "code",
   "execution_count": 4,
   "metadata": {},
   "outputs": [],
   "source": [
    "#tennisbal constants\n",
    "\n",
    "k = 1.5\n",
    "\n",
    "C = 0.5\n",
    "rho = 1.292\n",
    "A = 0.003316625\n",
    "\n",
    "cor = 0.66666\n",
    "cof = 0.72"
   ]
  },
  {
   "cell_type": "code",
   "execution_count": 5,
   "metadata": {},
   "outputs": [],
   "source": [
    "#launcher constants\n",
    "\n",
    "theta = 10*pi/180\n",
    "s0 = 1"
   ]
  },
  {
   "cell_type": "code",
   "execution_count": 6,
   "metadata": {},
   "outputs": [
    {
     "name": "stdout",
     "output_type": "stream",
     "text": [
      "15.77871049051427 2.78221238026555\n"
     ]
    }
   ],
   "source": [
    "#velocity\n",
    "\n",
    "v0x = v0 * m.cos(theta)\n",
    "vx = v0x\n",
    "v0y = v0 * m.sin(theta)\n",
    "print(v0x,v0y)"
   ]
  },
  {
   "cell_type": "code",
   "execution_count": 7,
   "metadata": {},
   "outputs": [],
   "source": [
    "#time \n",
    "\n",
    "t = 0\n",
    "tf = 3.0*v0y/g\n",
    "dt = tf/2000"
   ]
  },
  {
   "cell_type": "code",
   "execution_count": 8,
   "metadata": {},
   "outputs": [],
   "source": [
    "A = g/k\n",
    "\n",
    "B = v0y + A\n",
    "\n",
    "x = v0x/-k * m.exp(t*-k)\n",
    "y = B/-k * m.exp(t*-k)-A*t\n",
    "\n",
    "cx = -v0x/-k * m.exp(0*-k)\n",
    "cy = B/-k * m.exp(0*-k)-A*0\n"
   ]
  },
  {
   "cell_type": "code",
   "execution_count": 9,
   "metadata": {},
   "outputs": [],
   "source": [
    "i = 0 \n",
    "x = []\n",
    "y = []"
   ]
  },
  {
   "cell_type": "code",
   "execution_count": 10,
   "metadata": {
    "tags": [
     "first motion "
    ]
   },
   "outputs": [],
   "source": [
    "\n",
    "#### first motion\n",
    "\n",
    "while B/-k * m.exp(t*-k)-A*t-(cy-1) >= 0: \n",
    "        t = t + dt\n",
    "        x.append(v0x/-k * m.exp(t*-k)+cx)\n",
    "        y.append(B/-k * m.exp(t*-k)-A*t-(cy-1)) \n",
    "        #print(x[i],y[i])\n",
    "        i = i + 1"
   ]
  },
  {
   "cell_type": "code",
   "execution_count": 11,
   "metadata": {},
   "outputs": [],
   "source": [
    "v0x2 = v0x * cof\n",
    "v0y2 = -(v0y-g*t) * cor\n",
    "\n",
    "xref = x[i-1]\n",
    "\n",
    "t = 0 \n",
    "tf = 2.0*v0/g\n",
    "dt = tf/2000\n",
    "\n",
    "A = g/k\n",
    "\n",
    "B = v0y2 + A\n",
    "\n",
    "cx = -v0x2/-k * m.exp(0*-k)\n",
    "cy = B/-k * m.exp(0*-k)-A*0\n"
   ]
  },
  {
   "cell_type": "code",
   "execution_count": 12,
   "metadata": {
    "tags": [
     "second motion"
    ]
   },
   "outputs": [],
   "source": [
    "#### second motion\n",
    "\n",
    "while B/-k * m.exp(t*-k)-A*t-(cy) >= 0:\n",
    "        t = t + dt \n",
    "        x.append(v0x2 /-k * m.exp(t*-k)+cx + xref)\n",
    "        y.append(B/-k * m.exp(t*-k)-A*t-cy) \n",
    "        #print(x[i],y[i])\n",
    "        i = i + 1 "
   ]
  },
  {
   "cell_type": "code",
   "execution_count": 13,
   "metadata": {},
   "outputs": [
    {
     "name": "stdout",
     "output_type": "stream",
     "text": [
      "12.120158679652\n"
     ]
    },
    {
     "data": {
      "image/png": "[encoded data removed]",
      "text/plain": [
       "<Figure size 640x480 with 1 Axes>"
      ]
     },
     "metadata": {},
     "output_type": "display_data"
    }
   ],
   "source": [
    "print(x[i-1])\n",
    "plt.plot(x,y)\n",
    "plt.xlim(0, 20)\n",
    "plt.ylim(0, 4)\n",
    "plt.show()"
   ]
  }
 ],
 "metadata": {
  "kernelspec": {
   "display_name": "Python 3.10.8 64-bit (microsoft store)",
   "language": "python",
   "name": "python3"
  },
  "language_info": {
   "codemirror_mode": {
    "name": "ipython",
    "version": 3
   },
   "file_extension": ".py",
   "mimetype": "text/x-python",
   "name": "python",
   "nbconvert_exporter": "python",
   "pygments_lexer": "ipython3",
   "version": "3.10.8"
  },
  "orig_nbformat": 4,
  "vscode": {
   "interpreter": {
    "hash": "5ccd2f0d68b1773550cd96e4fc337d3981cc6654df5da73adaf1b08d63f6f2ec"
   }
  }
 },
 "nbformat": 4,
 "nbformat_minor": 2
}
